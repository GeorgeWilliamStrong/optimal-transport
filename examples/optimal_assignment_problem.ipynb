{
 "cells": [
  {
   "cell_type": "code",
   "execution_count": null,
   "id": "5c3cb5fe-a674-46e6-bc99-599841ae7279",
   "metadata": {},
   "outputs": [],
   "source": [
    "import numpy as np\n",
    "from utils import *"
   ]
  },
  {
   "cell_type": "code",
   "execution_count": null,
   "id": "5e3aa111-fdb2-4605-bf77-2c09a60381dc",
   "metadata": {},
   "outputs": [],
   "source": [
    "n = 64 # Number of points in first point cloud\n",
    "m = n # Number of points in second point cloud\n",
    "\n",
    "# Generate point clouds a and b\n",
    "gauss = lambda q, a, c: a * np.random.randn(2, q) + np.transpose(np.tile(c, (q, 1)))\n",
    "a = (np.random.randn(2, n)*.3).transpose()\n",
    "b = (np.hstack((gauss(int(m/2), .5, [0, 1.6]),\n",
    "     np.hstack((gauss(int(m/4), .3, [-1, -1]), \n",
    "                gauss(int(m/4), .3, [1, -1])))))).transpose()\n",
    "\n",
    "cloud_plot(a, b)"
   ]
  }
 ],
 "metadata": {
  "kernelspec": {
   "display_name": "Python 3 (ipykernel)",
   "language": "python",
   "name": "python3"
  },
  "language_info": {
   "codemirror_mode": {
    "name": "ipython",
    "version": 3
   },
   "file_extension": ".py",
   "mimetype": "text/x-python",
   "name": "python",
   "nbconvert_exporter": "python",
   "pygments_lexer": "ipython3",
   "version": "3.9.18"
  }
 },
 "nbformat": 4,
 "nbformat_minor": 5
}
